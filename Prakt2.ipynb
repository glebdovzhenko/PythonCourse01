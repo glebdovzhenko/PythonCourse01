{
 "cells": [
  {
   "cell_type": "markdown",
   "id": "cf502f93-806e-4e32-bad8-57236241fa55",
   "metadata": {},
   "source": [
    "# Практикум 2: работа с файлами и строками\n",
    "## [Ссылка на неизменяемую версию практикума](https://github.com/glebdovzhenko/PythonCourse01/blob/main/Prakt2.ipynb)"
   ]
  },
  {
   "cell_type": "markdown",
   "id": "1b2b4b36-268b-4e34-8dbc-7a43de42727a",
   "metadata": {},
   "source": [
    "[Описание функции open](https://docs-python.ru/tutorial/vstroennye-funktsii-interpretatora-python/funktsija-open/)\n",
    "\n",
    "В большинстве языков программирования файлы представлены в виде файловых потоков. \n",
    "Файловый даёт возможность считывать блоками \"сырые\" данные. "
   ]
  },
  {
   "cell_type": "code",
   "execution_count": 11,
   "id": "0ee2207b-4952-4209-b2f8-0514b45796b2",
   "metadata": {},
   "outputs": [
    {
     "name": "stdout",
     "output_type": "stream",
     "text": [
      "['# this is a test file with some model data\\n', '0.0,0.0\\n', '0.5263157894736842,0.32469946920468346\\n', '1.0526315789473684,0.6142127126896678\\n', '1.5789473684210527,0.8371664782625285\\n', '2.1052631578947367,0.9694002659393304\\n', '2.631578947368421,0.9965844930066698\\n', '3.1578947368421053,0.9157733266550575\\n', '3.6842105263157894,0.7357239106731317\\n', '# here is a comment\\n', '4.2105263157894735,0.4759473930370737\\n', '4.7368421052631575,0.16459459028073403\\n', '5.263157894736842,-0.16459459028073337\\n', '5.789473684210526,-0.4759473930370731\\n', '6.315789473684211,-0.7357239106731313\\n', '6.842105263157895,-0.9157733266550573\\n', '# and here is another one\\n', '7.368421052631579,-0.9965844930066698\\n', '7.894736842105263,-0.9694002659393305\\n', '8.421052631578947,-0.8371664782625288\\n', '8.947368421052632,-0.614212712689668\\n', '9.473684210526315,-0.32469946920468373\\n', '10.0,-2.4492935982947064e-16\\n']\n"
     ]
    }
   ],
   "source": [
    "fd = open('Prakt2/task1.csv', 'r')  # основные аргументы функции open: адрес файла который нужно открыть и то как мы его открываем. \n",
    "# 'r' значит открываем как текстовый файл для чтения\n",
    "# У файлового дескриптора есть метод readlines(), возвращающий строки файла в виде списка\n",
    "lines = fd.readlines()\n",
    "print(lines)\n",
    "# В большинстве ЯП в строковых переменных есть специальные символы: например, '\\t', '\\n' означающие табуляцию и переход на новую строку соответственно."
   ]
  },
  {
   "cell_type": "markdown",
   "id": "3cab809b-68b6-458c-acb9-b0a8af4fdecc",
   "metadata": {},
   "source": [
    "[Операции со строками](https://pythonworld.ru/tipy-dannyx-v-python/stroki-funkcii-i-metody-strok.html)"
   ]
  },
  {
   "cell_type": "code",
   "execution_count": 12,
   "id": "ec1a9de6-e3cc-4b88-9dff-8cd14643663b",
   "metadata": {},
   "outputs": [
    {
     "name": "stdout",
     "output_type": "stream",
     "text": [
      "qwerty\n",
      "q w e\n",
      "True\n"
     ]
    }
   ],
   "source": [
    "# у строк можно обращаться к отдельным символам так же как у списков, работают многие другие методы аналогичные спискам\n",
    "s1 = 'qwerty'\n",
    "print(s1)\n",
    "print(s1[0], s1[1], s1[2])\n",
    "print(s1[0] == 'q')\n"
   ]
  },
  {
   "cell_type": "code",
   "execution_count": 13,
   "id": "53a8e190-757a-45c1-b183-d817d4266193",
   "metadata": {},
   "outputs": [
    {
     "name": "stdout",
     "output_type": "stream",
     "text": [
      "asdf fdsa\n"
     ]
    }
   ],
   "source": [
    "# Со строками работают срезы так же как и со списками\n",
    "s1 = 'asdf'\n",
    "s1_reversed = s1[::-1]  # [::-1] означает взять все элементы строки (списка) и представить их с шагом -1, то есть в обратном порядке\n",
    "print(s1, s1_reversed)"
   ]
  },
  {
   "cell_type": "markdown",
   "id": "38aaa6dc-ef68-4fdd-9090-31bb67141ff6",
   "metadata": {},
   "source": [
    "### Задача 1\n",
    "В файле `Prakt2/task1.csv` есть несколько комментариев, то есть строк начинающихся с символа `#`. Выведите на печать все строки файла НЕ являющиеся комментариями."
   ]
  },
  {
   "cell_type": "code",
   "execution_count": 14,
   "id": "f43c37de-cad2-4077-8ccf-605e9012f332",
   "metadata": {},
   "outputs": [],
   "source": [
    "# Здесь будет ваш код"
   ]
  },
  {
   "cell_type": "markdown",
   "id": "d432d272-601b-418d-aee8-4d11d962e599",
   "metadata": {},
   "source": [
    "## Составление строк"
   ]
  },
  {
   "cell_type": "code",
   "execution_count": 15,
   "id": "d3e0a11c-fcc1-49f2-9552-cef86a90f0e0",
   "metadata": {},
   "outputs": [
    {
     "name": "stdout",
     "output_type": "stream",
     "text": [
      "I have 10 oranges.\n",
      "I have 10 oranges.\n",
      "I have 10 oranges.\n"
     ]
    }
   ],
   "source": [
    "# Строки можно составлять из других переменных с помощью формат-строк следующими способами:\n",
    "fruit_num = 10\n",
    "fruit_type = 'oranges'\n",
    "s1 = 'I have %d %s.' % (fruit_num, fruit_type)\n",
    "print(s1)\n",
    "# Здесь 'I have %d %s.' - строка-шаблон, состоящая из обычных символов и специальных обозначений %d, %s, \n",
    "# означающих что в эти места надо подставить целое число и строку соответственно.\n",
    "# Операция % здесь — операция форматирования, то есть подстановки значений в строку-шаблон\n",
    "# Вторым аргументом оператора % является кортеж (последовательность) переменных (fruit_num, fruit_type), которые и подставляются в качестве значений.\n",
    "\n",
    "# Того же эффекта можно добиться с другой строкой-шаблоном и методом .format(), например:\n",
    "print('I have {} {}.'.format(fruit_num, fruit_type))\n",
    "# или\n",
    "print('I have {num} {what}.'.format(num=fruit_num, what=fruit_type))"
   ]
  },
  {
   "cell_type": "markdown",
   "id": "c90835cd-d68b-4cd9-b45d-342032b59748",
   "metadata": {},
   "source": [
    "### Задача 2\n",
    "Выведите на печать сколько каких фруктов записано в словаре. Вывод должен выглядеть так:\n",
    "```\n",
    "There are 10 oranges\n",
    "There are 2 apples\n",
    "There are 5 bananas\n",
    "```"
   ]
  },
  {
   "cell_type": "code",
   "execution_count": 16,
   "id": "62081462-0b4b-4d43-a8d5-83ac5b40f1d2",
   "metadata": {},
   "outputs": [],
   "source": [
    "fruits = {'oranges': 10, 'apples': 2, 'bananas': 5}\n",
    "\n",
    "# Здесь будет ваш код\n",
    "# как перебирать элементы словаря можно посмотреть в Prakt1.1"
   ]
  },
  {
   "cell_type": "markdown",
   "id": "bed15d42-94c5-4ef4-9178-994750f502f7",
   "metadata": {},
   "source": [
    "## Анализ и изменения строк"
   ]
  },
  {
   "cell_type": "code",
   "execution_count": 17,
   "id": "15279c81-cec0-4472-a23d-d8c106f19d52",
   "metadata": {},
   "outputs": [
    {
     "name": "stdout",
     "output_type": "stream",
     "text": [
      "['somename', 'maildom.wat']\n"
     ]
    }
   ],
   "source": [
    "# Допустим у вас есть электронный адрес записанный в виде строки\n",
    "raw_str = 'somename@maildom.wat'\n",
    "# вы хотите разделить его на имя пользователя и доменное имя\n",
    "str_split = raw_str.split('@')\n",
    "print(str_split)"
   ]
  },
  {
   "cell_type": "code",
   "execution_count": 18,
   "id": "793cedb1-942d-426b-b940-b51a0647d930",
   "metadata": {},
   "outputs": [
    {
     "name": "stdout",
     "output_type": "stream",
     "text": [
      "wawawa\n",
      "wewewe\n",
      "\n",
      "wawawawewewe\n",
      "line 1\n",
      "line 2\n",
      "\n"
     ]
    }
   ],
   "source": [
    "# допустим в вашей строке есть лишние символы — например, символ конца строки '\\n'\n",
    "# его можно удалить функцией replace\n",
    "s2 = 'wawawa\\nwewewe\\n'\n",
    "print(s2)\n",
    "print(s2.replace('\\n', ''))  # в этом примере мы заменяем все символы '\\n' ничем, то есть ''\n",
    "# однако можно заменять любую комбинацию символов на любую другую комбинацию символов\n",
    "print(s2.replace('wawawa', 'line 1').replace('wewewe', 'line 2'))"
   ]
  },
  {
   "cell_type": "markdown",
   "id": "d3861c4c-0420-4ecc-9a08-aee403d0bb75",
   "metadata": {},
   "source": [
    "### Задача 3\n",
    "Откройте файл `Prakt2/task3.txt` и запишите его содержимое в словарь. Результат должен быть такой:\n",
    "\n",
    "``` {'Anna': 10, 'Bob': 2, 'Carl': 7, 'David': 3} ```\n",
    "\n",
    "Подсказка: для того чтобы превратить строку '10' в целое число 10, используйте функцию `int`:\n",
    "\n",
    "```int('10') == 10```"
   ]
  },
  {
   "cell_type": "code",
   "execution_count": 19,
   "id": "1f3ab9b1-295b-4149-98cf-3e1801b2f5b2",
   "metadata": {},
   "outputs": [],
   "source": [
    "fd = open('Prakt2/task3.txt')\n",
    "# Здесь будет ваш код"
   ]
  },
  {
   "cell_type": "markdown",
   "id": "ca41fa70-d47f-492e-812f-b1ec1e6e8506",
   "metadata": {},
   "source": [
    "### Задача 4\n",
    "Найдите в предложении все слова-палиндромы (т.е. те, которые читаются одинаково в обе стороны, напр. довод, шалаш). Артикли (слова из одной буквы) не считаются.\n",
    "Подсказка: найдите методы приводящие заглавные буквы к строчным"
   ]
  },
  {
   "cell_type": "code",
   "execution_count": 20,
   "id": "639e5e91-ffd2-4605-9ca5-a2dbcb6cc38d",
   "metadata": {},
   "outputs": [],
   "source": [
    "s_pali = 'A civic worker took a kayak trip with his madam over the river Kinnikinnik.'\n",
    "# Здесь будет ваш код"
   ]
  },
  {
   "cell_type": "markdown",
   "id": "c2d829bf-a362-4ab5-b5c4-7e648fd1fd6a",
   "metadata": {},
   "source": [
    "##  Модуль os. Работа с операционной системой.\n",
    "Модуль os предоставляет [множество возможностей](https://pythonworld.ru/moduli/modul-os.html).\n",
    "Рассмотрим работу с файлами."
   ]
  },
  {
   "cell_type": "code",
   "execution_count": 21,
   "id": "756e69d3-46e6-4859-a28a-4690dc0455d3",
   "metadata": {},
   "outputs": [
    {
     "name": "stdout",
     "output_type": "stream",
     "text": [
      "['task3.txt', 'task5', 'task1.csv', '.ipynb_checkpoints']\n",
      "Prakt2/task5\n",
      "/Users/glebdovzhenko/Yandex.Disk.localized/Dev/PythonCourse01/Prakt2/task3.txt\n",
      "/Users/glebdovzhenko/Yandex.Disk.localized/Dev/PythonCourse01/Prakt2/task5\n",
      "/Users/glebdovzhenko/Yandex.Disk.localized/Dev/PythonCourse01/Prakt2/task1.csv\n",
      "/Users/glebdovzhenko/Yandex.Disk.localized/Dev/PythonCourse01/Prakt2/.ipynb_checkpoints\n"
     ]
    }
   ],
   "source": [
    "import os  # перед использованием модулей необходимо их импортировать\n",
    "print(os.listdir('Prakt2'))  # метод os.listdir(dir) выдаёт список файлов и папок в директории dir\n",
    "print(os.path.join('Prakt2', 'task5'))  # метод os.path.join соединяет последовательность строк в имя директории / файла. \n",
    "# Удобно если вы хотите программно перебирать файлы в папке, т.к. listdir выдаёт путь относительно той папки в с которой он вызван\n",
    "\n",
    "# Типичный способ использования этих функций:\n",
    "wd = os.path.abspath('Prakt2')  # задаём полный путь до рабочей директории\n",
    "for f_name in os.listdir(wd): # перебираем относительные пути до файлов в рабочей директории\n",
    "    f_name = os.path.join(wd, f_name)  # добавляем к относительному пути до файла путь до папки, т.е. собираем полный путь до файла\n",
    "    print(f_name)  # печатаем полный путь\n",
    "\n",
    "# Даже если вы работаете с файлами в той же папке что и Python-скрипт, всегда лучше работать с полными путями, т.е. от корня файловой системы, \n",
    "# это позволяет избежать путаницы при переносе файлов и папок в другие места"
   ]
  },
  {
   "cell_type": "markdown",
   "id": "3eacbe0c-532e-4d80-bd95-8f994e1dcdd4",
   "metadata": {},
   "source": [
    "### Задача 5\n",
    "В папке `Prakt2/task5` расположены `.txt` файлы с оценками аналогично задаче 3.\n",
    "Выберите из папки только файлы с расширением `.txt` и запишите данные из всех этих файлов в один словарь.\n",
    "\n",
    "Результат:\n",
    "\n",
    "``` {'Anna': 10, 'Bob': 2, 'Edith': 4, 'Fred': 8, 'Carl': 7, 'David': 3} ```"
   ]
  },
  {
   "cell_type": "code",
   "execution_count": 22,
   "id": "6fb4f500-fc62-4ce7-b870-f1b47138a378",
   "metadata": {},
   "outputs": [],
   "source": [
    "# Здесь будет ваш код"
   ]
  },
  {
   "cell_type": "code",
   "execution_count": null,
   "id": "39e8c853-e928-4405-ba5f-203c1167dc6b",
   "metadata": {},
   "outputs": [],
   "source": []
  }
 ],
 "metadata": {
  "kernelspec": {
   "display_name": "Python 3 (ipykernel)",
   "language": "python",
   "name": "python3"
  },
  "language_info": {
   "codemirror_mode": {
    "name": "ipython",
    "version": 3
   },
   "file_extension": ".py",
   "mimetype": "text/x-python",
   "name": "python",
   "nbconvert_exporter": "python",
   "pygments_lexer": "ipython3",
   "version": "3.11.5"
  }
 },
 "nbformat": 4,
 "nbformat_minor": 5
}
