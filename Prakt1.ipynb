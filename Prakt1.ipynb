{
 "cells": [
  {
   "cell_type": "markdown",
   "id": "db5cead3-48a6-40b7-b1f8-95ce3606a756",
   "metadata": {},
   "source": [
    "# Практикум 1"
   ]
  },
  {
   "cell_type": "markdown",
   "id": "3e95b3d3-1731-4671-a20b-749664a0f9c0",
   "metadata": {},
   "source": [
    "## Основные типы данных"
   ]
  },
  {
   "cell_type": "markdown",
   "id": "3c2a557c-25cc-4919-a0b6-7fff548717df",
   "metadata": {},
   "source": [
    "Числовые типы: `int`, `float`, `complex`. \n",
    "При объявлении переменной тип выбирается автоматически.\n",
    "\n",
    "[Операции с числовыми типами](https://docs.python.org/3/library/stdtypes.html#numeric-types-int-float-complex)."
   ]
  },
  {
   "cell_type": "code",
   "execution_count": 1,
   "id": "28b28de0-d959-442f-b092-ede48581f45a",
   "metadata": {},
   "outputs": [],
   "source": [
    "a = 10       # int\n",
    "b = 2.1      # float\n",
    "c = 2. + 3j  # complex"
   ]
  },
  {
   "cell_type": "markdown",
   "id": "47ec5847-8afe-434e-955d-43ff8d9bcafe",
   "metadata": {},
   "source": [
    "Узнать тип интересующей нас переменной можно с помощью команды `type`.\n",
    "\n",
    "Это полезно при использовании библиотечных функций, если не хочется разбираться в документации"
   ]
  },
  {
   "cell_type": "code",
   "execution_count": 2,
   "id": "8840a29a-b48f-4087-97d1-25c48a7868ee",
   "metadata": {},
   "outputs": [
    {
     "data": {
      "text/plain": [
       "int"
      ]
     },
     "execution_count": 2,
     "metadata": {},
     "output_type": "execute_result"
    }
   ],
   "source": [
    "type(a)"
   ]
  },
  {
   "cell_type": "markdown",
   "id": "e765e710-f89b-48aa-87f7-57f22b1d438b",
   "metadata": {},
   "source": [
    "Логический тип: `bool`. Может иметь значения `True`, `False`.\n",
    "\n",
    "[Логические операторы](https://docs.python.org/3/library/stdtypes.html#boolean-operations-and-or-not)"
   ]
  },
  {
   "cell_type": "code",
   "execution_count": 3,
   "id": "b63b1d59-fce3-46d0-be16-ff3bb2d54108",
   "metadata": {},
   "outputs": [],
   "source": [
    "d = True"
   ]
  },
  {
   "cell_type": "markdown",
   "id": "6e37e339-73db-4794-83be-a72f09c07cd9",
   "metadata": {},
   "source": [
    "Строки: `str`"
   ]
  },
  {
   "cell_type": "code",
   "execution_count": 4,
   "id": "eb10bc95-6533-4079-b9cf-82e34b701695",
   "metadata": {},
   "outputs": [],
   "source": [
    "f1 = 'single quote'\n",
    "f2 = '''triple single quote'''\n",
    "f3 = \"double quote\"\n",
    "f4 = \"\"\"Triple double quote\n",
    "        allows multiline strings and comments.\"\"\""
   ]
  },
  {
   "cell_type": "markdown",
   "id": "1fcaeaa7-be60-4b09-9d86-bc66e0531080",
   "metadata": {},
   "source": [
    "## Основные управляющие конструкции"
   ]
  },
  {
   "cell_type": "markdown",
   "id": "cd69aefd-cb58-4664-aadb-aa9240d7c764",
   "metadata": {},
   "source": [
    "Вывод в консоль: `print`\n"
   ]
  },
  {
   "cell_type": "code",
   "execution_count": 5,
   "id": "64f52c0a-0fda-4718-90bc-240c2960cbd6",
   "metadata": {},
   "outputs": [
    {
     "name": "stdout",
     "output_type": "stream",
     "text": [
      "10 2.1 (2+3j) True Triple double quote\n",
      "        allows multiline strings and comments.\n"
     ]
    }
   ],
   "source": [
    "print(a, b, c, d, f4)"
   ]
  },
  {
   "cell_type": "markdown",
   "id": "a0cf8a8d-f7ba-417b-a1e7-35ea258b0188",
   "metadata": {},
   "source": [
    "Ветвление `if`:\n",
    "```Python\n",
    "if CONDITION:\n",
    "    ACTION1\n",
    "else:\n",
    "    ACTION2\n",
    "```\n",
    "\n",
    "Цикл `while`:\n",
    "```Python\n",
    "while CONDITION:\n",
    "    ACTION\n",
    "```\n",
    "\n",
    "Цикл `for`:\n",
    "```Python\n",
    "for ELEMENT in CONTAINER:\n",
    "    ACTION\n",
    "```"
   ]
  },
  {
   "cell_type": "code",
   "execution_count": 6,
   "id": "40947dfb-33cd-4753-98e0-6d058296a53c",
   "metadata": {},
   "outputs": [
    {
     "name": "stdout",
     "output_type": "stream",
     "text": [
      "Odd 1\n",
      "Even 2\n",
      "Odd 3\n",
      "Even 4\n",
      "Odd 5\n",
      "Even 6\n",
      "Odd 7\n",
      "Even 8\n",
      "Odd 9\n",
      "Even 10\n"
     ]
    }
   ],
   "source": [
    "ii = 0\n",
    "while ii < 10:\n",
    "    ii = ii + 1\n",
    "    if ii % 2 == 0:\n",
    "        print('Even', ii)\n",
    "    else:\n",
    "        print('Odd', ii)"
   ]
  },
  {
   "cell_type": "markdown",
   "id": "219c3d03-b4bc-455b-a4bb-963cf0d3e88c",
   "metadata": {},
   "source": [
    "## Контейнеры"
   ]
  },
  {
   "cell_type": "markdown",
   "id": "8fb3a899-52a8-4234-9859-aef61ce0e841",
   "metadata": {},
   "source": [
    "Последовательности (упорядоченные контейнеры): `list`, `tuple`, `range`.\n",
    "\n",
    "[Операции с последовательностями](https://docs.python.org/3/library/stdtypes.html#sequence-types-list-tuple-range)"
   ]
  },
  {
   "cell_type": "code",
   "execution_count": 7,
   "id": "f1f70ee5-efee-4236-b0c9-be269bd5130b",
   "metadata": {},
   "outputs": [
    {
     "name": "stdout",
     "output_type": "stream",
     "text": [
      "[1, 2, 3, 4] (1, 2, 3, 4) range(3, 8, 2)\n"
     ]
    }
   ],
   "source": [
    "g1 = [1, 2, 3, 4]  # list\n",
    "g2 = (1, 2, 3, 4)  # tuple\n",
    "g3 = range(3, 8, 2)  # range\n",
    "\n",
    "print(g1, g2, g3)"
   ]
  },
  {
   "cell_type": "markdown",
   "id": "7bb710c1-93d5-4ef7-a0a0-f9f77bd1c1f0",
   "metadata": {},
   "source": [
    "Цикл `for` предназначен для использования с контейнерами:"
   ]
  },
  {
   "cell_type": "code",
   "execution_count": 8,
   "id": "ce4b36a8-7048-4d33-9b91-268dd9d13a36",
   "metadata": {},
   "outputs": [
    {
     "name": "stdout",
     "output_type": "stream",
     "text": [
      "[1, 2, 3, 4]\n",
      "1\n",
      "2\n",
      "3\n",
      "4\n"
     ]
    }
   ],
   "source": [
    "print(g1)\n",
    "for el in g1:\n",
    "    print(el)"
   ]
  },
  {
   "cell_type": "markdown",
   "id": "f693c7ce-a761-4d88-a079-e59d147fbcfd",
   "metadata": {},
   "source": [
    "## Задачи на последовательности (списки):\n",
    "\n",
    "См. [операции с последовательностями](https://docs.python.org/3/library/stdtypes.html#sequence-types-list-tuple-range), [операции с изменяемыми последовательностями](https://docs.python.org/3/library/stdtypes.html#mutable-sequence-types) и примеры выше."
   ]
  },
  {
   "cell_type": "markdown",
   "id": "35ec2dd7-d51e-48c5-b6c6-a270a71bcf9c",
   "metadata": {},
   "source": [
    "### 1\n",
    "Удалите из `l1` элементы с первого по пятый и напечатайте `l1`\n",
    "\n",
    "Ответ: `[2, 7, 6, 4, 13, 10]`"
   ]
  },
  {
   "cell_type": "code",
   "execution_count": 9,
   "id": "cf95a202-63a3-4789-b418-437143864d25",
   "metadata": {},
   "outputs": [],
   "source": [
    "l1 = [2, 4, 3, 5, 3, 2, 7, 6, 4, 13, 10]\n",
    "\n",
    "# Здесь будет ваш код"
   ]
  },
  {
   "cell_type": "markdown",
   "id": "3b67ae31-46f3-409d-badb-bbc63c157a8d",
   "metadata": {},
   "source": [
    "### 2\n",
    "Напечатайте все элементы `l1` большие 5\n",
    "\n",
    "Ответ: \n",
    "```\n",
    "7\n",
    "6\n",
    "13\n",
    "10\n",
    "```"
   ]
  },
  {
   "cell_type": "code",
   "execution_count": 10,
   "id": "6e990044-62bf-436f-bda5-397237fae84d",
   "metadata": {},
   "outputs": [],
   "source": [
    "l1 = [2, 7, 6, 4, 13, 10]\n",
    "\n",
    "# Здесь будет ваш код"
   ]
  },
  {
   "cell_type": "markdown",
   "id": "5301e7a5-ebf6-4301-bdbb-a2b846a0738e",
   "metadata": {},
   "source": [
    "### 3\n",
    "Соедините списки `l1` и `l2`.\n",
    "\n",
    "Ответ: `[2, 3, 4, 5, 7, 8]`"
   ]
  },
  {
   "cell_type": "code",
   "execution_count": 11,
   "id": "00c7e66d-f47e-4b71-a34a-8350ebdcaaac",
   "metadata": {},
   "outputs": [],
   "source": [
    "l1 = [2, 3, 4]\n",
    "l2 = [5, 7, 8]\n",
    "\n",
    "# Здесь будет ваш код"
   ]
  },
  {
   "cell_type": "markdown",
   "id": "3fece6ac-dd06-4f1c-9ee7-ef9f72972c9a",
   "metadata": {},
   "source": [
    "### 4\n",
    "Удалите из списка `l1` элементы с индексами 1, 3, 7\n",
    "\n",
    "Ответ: `[2, 3, 3, 2, 7, 4, 13, 10]`"
   ]
  },
  {
   "cell_type": "code",
   "execution_count": 12,
   "id": "553d401c-a142-4c5f-916c-67392a2d8bde",
   "metadata": {},
   "outputs": [],
   "source": [
    "l1 = [2, 4, 3, 5, 3, 2, 7, 6, 4, 13, 10]\n",
    "# Здесь будет ваш код"
   ]
  },
  {
   "cell_type": "markdown",
   "id": "009e6d2b-1a49-4f5b-8768-1d5eea465fcc",
   "metadata": {},
   "source": [
    "### 5\n",
    "Удалите из списка `l1` элементы со всеми нечетными индексами.\n",
    "Альтернативная формулировка: выберите из `l1` элементы через один начиная с нулевого.\n",
    "\n",
    "Ответ: `[2, 3, 3, 7, 4, 10]`"
   ]
  },
  {
   "cell_type": "code",
   "execution_count": 13,
   "id": "bf281aa1-f7fa-4be5-b76b-6d1bd1bdb363",
   "metadata": {},
   "outputs": [],
   "source": [
    "l1 = [2, 4, 3, 5, 3, 2, 7, 6, 4, 13, 10]\n",
    "# Здесь будет ваш код"
   ]
  },
  {
   "cell_type": "markdown",
   "id": "59cd7762-cc4b-4974-b696-403575f1286e",
   "metadata": {},
   "source": [
    "### 6\n",
    "Сложите поэлементно списки `l1` и `l2`\n",
    "\n",
    "Ответ: `[9, 6, 6]`"
   ]
  },
  {
   "cell_type": "code",
   "execution_count": 14,
   "id": "19aceca9-0b7f-44b9-bca5-0e72339f1605",
   "metadata": {},
   "outputs": [],
   "source": [
    "l1 = [2, 3, 4]\n",
    "l2 = [7, 3, 2]\n",
    "# Здесь будет ваш код"
   ]
  },
  {
   "cell_type": "markdown",
   "id": "9943ad8f-982c-416b-97ef-31060a3f830f",
   "metadata": {},
   "source": [
    "### 7\n",
    "Найдите индекс первого числа 1 в списке `l1` \n",
    "\n",
    "Ответ: `2`"
   ]
  },
  {
   "cell_type": "code",
   "execution_count": 15,
   "id": "d4e5aa0d-2cbd-4a1a-a53a-f4f37b6040a5",
   "metadata": {},
   "outputs": [],
   "source": [
    "l1 = [2, 4, 1, 3, 5, 1, 1, 3, 2, 7, 6, 4, 1, 13, 1, 10]\n",
    "# Здесь будет ваш код"
   ]
  },
  {
   "cell_type": "markdown",
   "id": "3ab62b65-028b-40c2-a18f-139e846ea332",
   "metadata": {},
   "source": [
    "### 8\n",
    "Дан список `l1`. Составьте список `l2` состоящий из минимального элемента `l1`, максимального элемента `l1`, числа повторов минимального элемента в `l1`, числа повторов максимального элемента в `l1`. \n",
    "\n",
    "Ответ: `[2, 13, 2, 1]`"
   ]
  },
  {
   "cell_type": "code",
   "execution_count": 16,
   "id": "02311a6a-f4ac-4476-a6f7-2e7e39fd570c",
   "metadata": {},
   "outputs": [],
   "source": [
    "l1 = [2, 4, 3, 5, 3, 2, 7, 6, 4, 13, 10]\n",
    "# Здесь будет ваш код"
   ]
  },
  {
   "cell_type": "markdown",
   "id": "b6129774-77e9-4728-9bac-d389a651967a",
   "metadata": {},
   "source": [
    "## Ещё контейнеры: `set`, `dict`\n",
    "\n",
    "Наборы уникальных элементов (множества): [set, frozenset](https://docs.python.org/3/library/stdtypes.html#set-types-set-frozenset)\n",
    "\n",
    "Отображения (словари): [dict](https://docs.python.org/3/library/stdtypes.html#mapping-types-dict)\n",
    "\n",
    "[Туториал по множествам](https://realpython.com/python-sets/)\n",
    "\n",
    "[Туториал по словарям](https://realpython.com/python-dicts/)"
   ]
  },
  {
   "cell_type": "markdown",
   "id": "5e94e745-b5c3-4fe2-abe7-31637fffce79",
   "metadata": {},
   "source": [
    "`set` создаётся из других контейнеров и \n",
    "1. Удаляет дубликаты\n",
    "2. НЕ сохраняет последовательность элементов\n",
    "\n",
    "У `set` нет доступа по индексам, т.е. `s[0]`, `s[1]`, ... не работает. Это НЕУПОРЯДОЧЕННЫЙ контейнер."
   ]
  },
  {
   "cell_type": "code",
   "execution_count": 17,
   "id": "6922a6f3-0c9a-4d1a-bd60-dadf1fd7c493",
   "metadata": {},
   "outputs": [
    {
     "name": "stdout",
     "output_type": "stream",
     "text": [
      "[1, 2, 1, 2, 4, 5, 3] {1, 2, 3, 4, 5}\n"
     ]
    }
   ],
   "source": [
    "l1 = [1, 2, 1, 2, 4, 5, 3]\n",
    "s1 = set(l1)\n",
    "print(l1, s1)"
   ]
  },
  {
   "cell_type": "markdown",
   "id": "986bb917-e7aa-4573-b4ba-5c97ef4b44a1",
   "metadata": {},
   "source": [
    "`dict` это отображение. Можно рассматривать как, таблицу индекс-значение. Индексы словаря называются ключами (keys).\n",
    "Ключи могут быть не обязательно численные. Ключи должны быть уникальными, по ним есть доступ к значениям."
   ]
  },
  {
   "cell_type": "code",
   "execution_count": 18,
   "id": "913cba7e-e38a-4e3f-9a52-7b5e9081b030",
   "metadata": {},
   "outputs": [
    {
     "name": "stdout",
     "output_type": "stream",
     "text": [
      "{1: 2, 3: 4} {'a': 'b', 'c': 'd'}\n",
      "b\n",
      "{'a': 'b', 'c': 'd', 3: 'qw', 'ef': 'qwerty'}\n"
     ]
    }
   ],
   "source": [
    "dd1 = dict({1:2, 3:4})\n",
    "dd2 = dict({'a':'b', 'c':'d'})\n",
    "print(dd1, dd2)\n",
    "print(dd2['a'])\n",
    "\n",
    "# можно добавлять пары ключ-элемент\n",
    "dd2[3] = 'qw'\n",
    "dd2['ef'] = 'qwerty'\n",
    "print(dd2)"
   ]
  },
  {
   "cell_type": "markdown",
   "id": "7043739c-5d75-4d2f-9bcc-3316b0e85485",
   "metadata": {},
   "source": [
    "## Задачи (продолжение):\n",
    "### 9\n",
    "Дан список `l1`. Составьте словарь с индексами - уникальными элементами `l1` и значениями — сколько раз встречается этот элемент.\n",
    "\n",
    "Ответ: `{40: 2, 11: 3, 13: 3, 15: 1, 16: 4}`"
   ]
  },
  {
   "cell_type": "code",
   "execution_count": 19,
   "id": "2f9e1447-97a3-4e3f-b571-5c890d308e11",
   "metadata": {},
   "outputs": [],
   "source": [
    "l1 = [13, 40, 16, 11, 15, 40, 13, 16, 11, 16, 16, 13, 11]\n",
    "# Здесь будет ваш код"
   ]
  },
  {
   "cell_type": "markdown",
   "id": "135754cb-6ee4-44aa-bcc4-94797c4c0d59",
   "metadata": {},
   "source": [
    "### 10\n",
    "Дан словарь `dd1`. Создайте словарь в котором ключи и значения `dd1` будут поменяны местами.\n",
    "\n",
    "Ответ: `{'a': 1, 'b': 2, 'c': 3, 'd': 4, 'e': 5, 'f': 6, 'g': 7}`"
   ]
  },
  {
   "cell_type": "code",
   "execution_count": 20,
   "id": "e1fd8a53-2024-462d-9ec9-04ad523bf17d",
   "metadata": {},
   "outputs": [],
   "source": [
    "dd1 = {1: 'a', 2: 'b', 3: 'c', 4: 'd', 5: 'e', 6: 'f', 7: 'g'}\n",
    "# Здесь будет ваш код"
   ]
  }
 ],
 "metadata": {
  "kernelspec": {
   "display_name": "Python 3 (ipykernel)",
   "language": "python",
   "name": "python3"
  },
  "language_info": {
   "codemirror_mode": {
    "name": "ipython",
    "version": 3
   },
   "file_extension": ".py",
   "mimetype": "text/x-python",
   "name": "python",
   "nbconvert_exporter": "python",
   "pygments_lexer": "ipython3",
   "version": "3.11.4"
  }
 },
 "nbformat": 4,
 "nbformat_minor": 5
}
